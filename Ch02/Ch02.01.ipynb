{
 "cells": [
  {
   "cell_type": "code",
   "execution_count": null,
   "id": "532db34e",
   "metadata": {},
   "outputs": [],
   "source": [
    "#Exercise 1\n",
    "\n",
    "class Rectangle:\n",
    "    def __init__(self, width, height):\n",
    "        self.width = width\n",
    "        self.height = height\n",
    "        self.area = width * height\n",
    "\n",
    "    #area뒤에 () 붙여야 함\n",
    "    def area(self):\n",
    "        return self.width * self.height\n",
    "\n",
    "width = int(input())\n",
    "height = int(input())\n",
    "\n",
    "rect = Rectangle(width, height)\n",
    "\n",
    "print(f\"가로 입력:{rect.width}\")\n",
    "print(f\"세로 입력:{rect.height}\")\n",
    "#print(f\"넓이:{rect.area()}\")\n",
    "print(f\"넓이:{rect.area}\")"
   ]
  }
 ],
 "metadata": {
  "language_info": {
   "name": "python"
  }
 },
 "nbformat": 4,
 "nbformat_minor": 5
}
