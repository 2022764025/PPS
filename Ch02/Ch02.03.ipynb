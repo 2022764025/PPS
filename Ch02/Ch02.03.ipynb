{
 "cells": [
  {
   "cell_type": "code",
   "execution_count": null,
   "id": "6aa40dae",
   "metadata": {},
   "outputs": [],
   "source": [
    "#Exercise 3\n",
    "\n",
    "class Business:\n",
    "    def __init__(self, name=\"\", email=\"\", addr=\"\"):\n",
    "        # =\" \"을 이용하여 빈 name,email,addr을 만듦\n",
    "        self.name = name\n",
    "        self.email = email\n",
    "        self.addr = addr\n",
    "    \n",
    "\n",
    "    def set_info(self):\n",
    "        self.name = input()    \n",
    "        self.email = input()\n",
    "        self.addr = input()\n",
    "\n",
    "    def __str__(self):\n",
    "        # \\은 return 뒤의 문장을 연결하기 위해 사용 \n",
    "        return f\"------------------------------------\\n\" \\\n",
    "               f\"Name : {self.name}\\n\" \\\n",
    "               f\"Email : {self.email}\\n\" \\\n",
    "               f\"Address : {self.addr}\\n\" \\\n",
    "               f\"------------------------------------\"\n",
    "\n",
    "card = Business()\n",
    "card.set_info()\n",
    "print(card)\n"
   ]
  }
 ],
 "metadata": {
  "language_info": {
   "name": "python"
  }
 },
 "nbformat": 4,
 "nbformat_minor": 5
}
