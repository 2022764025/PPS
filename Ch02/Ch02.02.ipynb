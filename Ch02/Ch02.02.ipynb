{
 "cells": [
  {
   "cell_type": "code",
   "execution_count": null,
   "id": "0fc519c5",
   "metadata": {},
   "outputs": [],
   "source": [
    "#Exercise 2\n",
    "\n",
    "import random\n",
    "\n",
    "class Character:\n",
    "    def __init__(self, name, life):\n",
    "        self.name = name\n",
    "        self.life = life\n",
    "    def damage(self):\n",
    "        self.life -= 1\n",
    "        print(f\"{self.name}가 공격받음! 생명력:{self.life}\")\n",
    "\n",
    "champ1 = Character(\"신지드\", 1000)\n",
    "champ2 = Character(\"징크스\", 600)\n",
    "champ3 = Character(\"크산테\", 900)\n",
    "characters = [champ1, champ2, champ3]   \n",
    "\n",
    "for i in range(10):\n",
    "    target = random.choice(characters)\n",
    "    target.damage()\n"
   ]
  }
 ],
 "metadata": {
  "language_info": {
   "name": "python"
  }
 },
 "nbformat": 4,
 "nbformat_minor": 5
}
