{
 "cells": [
  {
   "cell_type": "code",
   "execution_count": null,
   "id": "3898b374",
   "metadata": {},
   "outputs": [],
   "source": [
    "#Exercise 4 (str사용O)\n",
    "\n",
    "class Person:\n",
    "    def __init__(self, name, age):\n",
    "        self.name = name\n",
    "        self.age = age\n",
    "    \n",
    "    def __str__(self):\n",
    "        return f\"{self.name} is {self.age} years old\"\n",
    "\n",
    "a = Person('YangMin', 27)\n",
    "b = Person('Jordan', 32)\n",
    "print(str(a))\n",
    "print(str(b))"
   ]
  },
  {
   "cell_type": "code",
   "execution_count": null,
   "id": "f1078656",
   "metadata": {},
   "outputs": [],
   "source": [
    "#Exercise 4 (str사용X)\n",
    "\n",
    "class Person:\n",
    "    def __init__(self, name, age):\n",
    "        self.name = name\n",
    "        self.age = age\n",
    "\n",
    "    def get_name(self):\n",
    "        return f\"{self.name} is\"\n",
    "\n",
    "    def get_age(self):\n",
    "        return f\"{self.age} years old\"\n",
    "\n",
    "a = Person('YangMin', 27)\n",
    "b = Person('Jordan', 32)\n",
    "\n",
    "print(f\"{a.get_name()} {a.get_age()}\")\n",
    "print(f\"{b.get_name()} {b.get_age()}\")"
   ]
  },
  {
   "cell_type": "code",
   "execution_count": null,
   "id": "ab2c77c3",
   "metadata": {},
   "outputs": [],
   "source": [
    "#Exercise 4 (혼합)\n",
    "\n",
    "class Person:\n",
    "    def __init__(self, name, age):\n",
    "        self.name = name\n",
    "        self.age = age\n",
    "    \n",
    "    def get_name(self):\n",
    "        return self.name\n",
    "    \n",
    "    def get_age(self):\n",
    "        return self.age\n",
    "    \n",
    "    def __str__(self):\n",
    "        return f\"{self.name} is {self.age} years old\"\n",
    "\n",
    "a = Person('YangMin', 27)\n",
    "b = Person('Jordan', 32)\n",
    "print(str(a))\n",
    "print(str(b))"
   ]
  }
 ],
 "metadata": {
  "language_info": {
   "name": "python"
  }
 },
 "nbformat": 4,
 "nbformat_minor": 5
}
