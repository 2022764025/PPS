{
 "cells": [
  {
   "cell_type": "code",
   "execution_count": null,
   "metadata": {},
   "outputs": [
    {
     "name": "stdout",
     "output_type": "stream",
     "text": [
      "가로 입력:10\n",
      "세로 입력:20\n",
      "넓이:200\n"
     ]
    }
   ],
   "source": [
    "#Exercise 1\n",
    "\n",
    "class Rectangle:\n",
    "    def __init__(self, width, height):\n",
    "        self.width = width\n",
    "        self.height = height\n",
    "        self.area = width * height\n",
    "\n",
    "    #area뒤에 () 붙여야 함\n",
    "    def area(self):\n",
    "        return self.width * self.height\n",
    "\n",
    "width = int(input())\n",
    "height = int(input())\n",
    "\n",
    "rect = Rectangle(width, height)\n",
    "\n",
    "print(f\"가로 입력:{rect.width}\")\n",
    "print(f\"세로 입력:{rect.height}\")\n",
    "#print(f\"넓이:{rect.area()}\")\n",
    "print(f\"넓이:{rect.area}\")"
   ]
  },
  {
   "cell_type": "code",
   "execution_count": null,
   "metadata": {},
   "outputs": [
    {
     "name": "stdout",
     "output_type": "stream",
     "text": [
      "징크스가 공격받음! 생명력:599\n",
      "크산테가 공격받음! 생명력:899\n",
      "크산테가 공격받음! 생명력:898\n",
      "징크스가 공격받음! 생명력:598\n",
      "크산테가 공격받음! 생명력:897\n",
      "신지드가 공격받음! 생명력:999\n",
      "크산테가 공격받음! 생명력:896\n",
      "크산테가 공격받음! 생명력:895\n",
      "징크스가 공격받음! 생명력:597\n",
      "크산테가 공격받음! 생명력:894\n"
     ]
    }
   ],
   "source": [
    "#Exercise 2\n",
    "\n",
    "import random\n",
    "\n",
    "class Character:\n",
    "    def __init__(self, name, life):\n",
    "        self.name = name\n",
    "        self.life = life\n",
    "    def damage(self):\n",
    "        self.life -= 1\n",
    "        print(f\"{self.name}가 공격받음! 생명력:{self.life}\")\n",
    "\n",
    "champ1 = Character(\"신지드\", 1000)\n",
    "champ2 = Character(\"징크스\", 600)\n",
    "champ3 = Character(\"크산테\", 900)\n",
    "characters = [champ1, champ2, champ3]   \n",
    "\n",
    "for i in range(10):\n",
    "    target = random.choice(characters)\n",
    "    target.damage()\n"
   ]
  },
  {
   "cell_type": "code",
   "execution_count": null,
   "metadata": {},
   "outputs": [
    {
     "name": "stdout",
     "output_type": "stream",
     "text": [
      "------------------------------------\n",
      "Name : ansuji\n",
      "Email : asj4908@naver.com\n",
      "Address : Busan\n",
      "------------------------------------\n"
     ]
    }
   ],
   "source": [
    "#Exercise 3\n",
    "\n",
    "class Business:\n",
    "    def __init__(self, name=\"\", email=\"\", addr=\"\"):\n",
    "        # =\" \"을 이용하여 빈 name,email,addr을 만듦\n",
    "        self.name = name\n",
    "        self.email = email\n",
    "        self.addr = addr\n",
    "    \n",
    "\n",
    "    def set_info(self):\n",
    "        self.name = input()    \n",
    "        self.email = input()\n",
    "        self.addr = input()\n",
    "\n",
    "    def __str__(self):\n",
    "        # \\은 return 뒤의 문장을 연결하기 위해 사용 \n",
    "        return f\"------------------------------------\\n\" \\\n",
    "               f\"Name : {self.name}\\n\" \\\n",
    "               f\"Email : {self.email}\\n\" \\\n",
    "               f\"Address : {self.addr}\\n\" \\\n",
    "               f\"------------------------------------\"\n",
    "\n",
    "card = Business()\n",
    "card.set_info()\n",
    "print(card)\n"
   ]
  },
  {
   "cell_type": "code",
   "execution_count": null,
   "metadata": {},
   "outputs": [
    {
     "name": "stdout",
     "output_type": "stream",
     "text": [
      "YangMin is 27 years old\n",
      "Jordan is 32 years old\n"
     ]
    }
   ],
   "source": [
    "#Exercise 4 (str사용O)\n",
    "\n",
    "class Person:\n",
    "    def __init__(self, name, age):\n",
    "        self.name = name\n",
    "        self.age = age\n",
    "    \n",
    "    def __str__(self):\n",
    "        return f\"{self.name} is {self.age} years old\"\n",
    "\n",
    "a = Person('YangMin', 27)\n",
    "b = Person('Jordan', 32)\n",
    "print(str(a))\n",
    "print(str(b))"
   ]
  },
  {
   "cell_type": "code",
   "execution_count": null,
   "metadata": {},
   "outputs": [
    {
     "name": "stdout",
     "output_type": "stream",
     "text": [
      "YangMin is 27 years old\n",
      "Jordan is 32 years old\n"
     ]
    }
   ],
   "source": [
    "#Exercise 4 (str사용X)\n",
    "\n",
    "class Person:\n",
    "    def __init__(self, name, age):\n",
    "        self.name = name\n",
    "        self.age = age\n",
    "\n",
    "    def get_name(self):\n",
    "        return f\"{self.name} is\"\n",
    "\n",
    "    def get_age(self):\n",
    "        return f\"{self.age} years old\"\n",
    "\n",
    "a = Person('YangMin', 27)\n",
    "b = Person('Jordan', 32)\n",
    "\n",
    "print(f\"{a.get_name()} {a.get_age()}\")\n",
    "print(f\"{b.get_name()} {b.get_age()}\")"
   ]
  },
  {
   "cell_type": "code",
   "execution_count": null,
   "metadata": {},
   "outputs": [
    {
     "name": "stdout",
     "output_type": "stream",
     "text": [
      "YangMin is 27 years old\n",
      "Jordan is 32 years old\n"
     ]
    }
   ],
   "source": [
    "#Exercise 4 (혼합)\n",
    "\n",
    "class Person:\n",
    "    def __init__(self, name, age):\n",
    "        self.name = name\n",
    "        self.age = age\n",
    "    \n",
    "    def get_name(self):\n",
    "        return self.name\n",
    "    \n",
    "    def get_age(self):\n",
    "        return self.age\n",
    "    \n",
    "    def __str__(self):\n",
    "        return f\"{self.name} is {self.age} years old\"\n",
    "\n",
    "a = Person('YangMin', 27)\n",
    "b = Person('Jordan', 32)\n",
    "print(str(a))\n",
    "print(str(b))"
   ]
  }
 ],
 "metadata": {
  "kernelspec": {
   "display_name": "Python 3",
   "language": "python",
   "name": "python3"
  },
  "language_info": {
   "codemirror_mode": {
    "name": "ipython",
    "version": 3
   },
   "file_extension": ".py",
   "mimetype": "text/x-python",
   "name": "python",
   "nbconvert_exporter": "python",
   "pygments_lexer": "ipython3",
   "version": "3.12.7"
  }
 },
 "nbformat": 4,
 "nbformat_minor": 2
}
