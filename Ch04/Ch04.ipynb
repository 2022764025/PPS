{
 "cells": [
  {
   "cell_type": "markdown",
   "id": "a7692909",
   "metadata": {},
   "source": [
    "위키백과에서 \"나라별 인구 순위\" 테이블 읽어서 상위 10개 행을 출력하는 코드를 작성하라. \n",
    "• Url은 다음과 같이 설정:\n",
    "•  https://en.wikipedia.org/wiki/List_of_countries_a nd_dependencies_by_population\n",
    "•  read_html()을 사용하여 해당 페이지의 모든 테이블을 가져옴(3개의 테이블 존재)\n",
    "•  첫 번째 테이블이 나라별 인구 테이블이므로 이를 활용할 것: tables[0] 에 있음\n",
    "•  상위 10개 행을 출력하도록 할 것"
   ]
  },
  {
   "cell_type": "code",
   "execution_count": null,
   "id": "a6ebbb2d",
   "metadata": {},
   "outputs": [
    {
     "name": "stdout",
     "output_type": "stream",
     "text": [
      "        Location  Population % of world         Date  \\\n",
      "0          World  8138506850       100%  20 Apr 2025   \n",
      "1          India  1413324000      17.3%   1 Mar 2025   \n",
      "2          China  1408280000      17.2%  31 Dec 2024   \n",
      "3  United States   340110988       4.2%   1 Jul 2024   \n",
      "4      Indonesia   282477584       3.5%  30 Jun 2024   \n",
      "5       Pakistan   241499431       3.0%   1 Mar 2023   \n",
      "6        Nigeria   223800000       2.7%   1 Jul 2023   \n",
      "7         Brazil   212583750       2.6%   1 Jul 2024   \n",
      "8     Bangladesh   169828911       2.1%  14 Jun 2022   \n",
      "9         Russia   146028325       1.8%   1 Jan 2025   \n",
      "\n",
      "  Source (official or from the United Nations) Notes  \n",
      "0                          UN projection[1][3]   NaN  \n",
      "1                       Official projection[4]   [b]  \n",
      "2                         Official estimate[5]   [c]  \n",
      "3                         Official estimate[6]   [d]  \n",
      "4                National annual projection[7]   NaN  \n",
      "5                        2023 census result[8]   [e]  \n",
      "6                       Official projection[9]   NaN  \n",
      "7                      Official projection[10]   NaN  \n",
      "8                       2022 census result[11]   [f]  \n",
      "9                        Official estimate[13]   [g]  \n"
     ]
    }
   ],
   "source": [
    "import pandas as pd\n",
    "\n",
    "url = 'https://en.wikipedia.org/wiki/List_of_countries_and_dependencies_by_population'\n",
    "tables = pd.read_html(url)   # 모든 테이블 가져오기\n",
    "df = tables[0]               # 첫 번째 테이블 사용\n",
    "print(df.head(10))          # 상위 10개 출력"
   ]
  },
  {
   "cell_type": "markdown",
   "id": "1eb97e9a",
   "metadata": {},
   "source": [
    "네이버 날씨(https://weather.naver.com/)에서 오늘의 기온 정보 테이블을 크롤링하는 코 드를 작성하라. \n",
    "•  Url은 다음과 같이 설정: https://weather.naver.com/today/09140104\n",
    "•  read_html()을 사용하여 네이버 날씨 페이지의 HTML 테이블을 가져옴.\n",
    "•  서울(09140104) 기준이므로, 다른 지역의 코드를 사용하면 해당 지역의 날씨 정보도 가져올 수 있음.\n",
    "•  For 구문 작성에서 테이블 인덱스 및 테이블 내용이 모두 출력되게 할 것\n",
    "•  출력 결과 및 출력문: print(table.head(), \"\\n\")  # 일부 데이터만 출력"
   ]
  },
  {
   "cell_type": "code",
   "execution_count": 5,
   "id": "5dd1b910",
   "metadata": {},
   "outputs": [
    {
     "name": "stdout",
     "output_type": "stream",
     "text": [
      "테이블 0:\n",
      "           오늘\n",
      "0      기온  °\n",
      "1  강수확률  (%)\n",
      "2  강수량  (mm)\n",
      "3   적설  (cm)\n",
      "4    습도  (%) \n",
      "\n"
     ]
    }
   ],
   "source": [
    "import pandas as pd\n",
    "\n",
    "# 서울 지역 날씨 URL\n",
    "url = \"https://weather.naver.com/today/09140104\"\n",
    "\n",
    "# HTML 내 테이블 모두 가져오기\n",
    "tables = pd.read_html(url)\n",
    "\n",
    "# 각 테이블 출력 (인덱스와 일부 데이터만)\n",
    "for i, table in enumerate(tables):\n",
    "    print(f\"테이블 {i}:\\n\", table.head(), \"\\n\")"
   ]
  },
  {
   "cell_type": "markdown",
   "id": "1539e1d6",
   "metadata": {},
   "source": [
    "네이버 증권(https://finance.naver.com/)에서 코스 피/코스닥/코스피200 지수를 크롤링하는 코드를 작성하라.\n",
    "•  Pandas를 사용하고, read_html() 함수를 사용할 것\n",
    "•  URL은 다음과 같이 설정: url = \n",
    "'https://finance.naver.com/sise/＇\n",
    "•  웹 페이지의 실제 인코딩 방식 확인이 필요할 수 있음\n",
    "•   response = requests.get(url)\n",
    "•   response.encoding = \n",
    "response.apparent_encoding  # 자동  감지된  인코딩 설정\n",
    "•   따라서 pd.read_html(url) 또는\n",
    "pd.read_html(response.text) 같은  형태가  될  수  있음\n",
    "•   옆  그림은  출력  결과"
   ]
  },
  {
   "cell_type": "code",
   "execution_count": 3,
   "id": "55c2b113",
   "metadata": {},
   "outputs": [
    {
     "name": "stdout",
     "output_type": "stream",
     "text": [
      "테이블 0:\n",
      "       업종명    전일대비 등락그래프\n",
      "0     NaN     NaN   NaN\n",
      "1    창업투자  +6.25%  100%\n",
      "2  전기유틸리티  +3.51%   56%\n",
      "3      증권  +2.76%   44%\n",
      "4     NaN     NaN   NaN \n",
      "\n",
      "테이블 1:\n",
      "       테마명     전일대비        주도주\n",
      "0     NaN      NaN        NaN\n",
      "1  퓨리오사AI  +14.89%  상한  엑스페릭스\n",
      "2     창투사  +10.12%  상한  컴퍼니케이\n",
      "3  4대강 복원   +4.95%   상한  삼호개발\n",
      "4     NaN      NaN        NaN \n",
      "\n",
      "테이블 2:\n",
      "     0        1        2          3\n",
      "0 NaN      NaN      NaN        NaN\n",
      "1 NaN     한국전력  25300.0  상승  1,000\n",
      "2 NaN  에이비엘바이오  64900.0    상승  200\n",
      "3 NaN    한화시스템  38400.0    하락  250\n",
      "4 NaN      NaN      NaN        NaN \n",
      "\n",
      "테이블 3:\n",
      "     0           1          2           3\n",
      "0 NaN         NaN        NaN         NaN\n",
      "1 NaN        한국전력    25300.0   상승  1,000\n",
      "2 NaN  KODEX 레버리지    14695.0      상승  45\n",
      "3 NaN    삼성바이오로직스  1072000.0  상승  23,000\n",
      "4 NaN         NaN        NaN         NaN \n",
      "\n",
      "테이블 4:\n",
      "            0      1   2\n",
      "0      성신양회우  19110 NaN\n",
      "1      엑스페릭스   7150 NaN\n",
      "2     아이티아이즈   7720 NaN\n",
      "3  팬스타엔터프라이즈   1054 NaN\n",
      "4       성신양회  12030 NaN \n",
      "\n",
      "테이블 5:\n",
      "    순위   연속   누적    종목명      현재가        전일비      등락률        거래량       시가  \\\n",
      "0 NaN  NaN  NaN    NaN      NaN        NaN      NaN        NaN      NaN   \n",
      "1 NaN  1.0  2.0  대한제당우   4235.0    상한  975  +29.91%  9163678.0   3260.0   \n",
      "2 NaN  1.0  1.0   성신양회  12030.0  상한  2,770  +29.91%  4442603.0  11000.0   \n",
      "3 NaN  2.0  2.0  성신양회우  19110.0  상한  4,410  +30.00%   116816.0  19110.0   \n",
      "4 NaN  1.0  1.0     대원   6010.0  상한  1,380  +29.81%   698821.0   4640.0   \n",
      "\n",
      "        고가       저가  \n",
      "0      NaN      NaN  \n",
      "1   4235.0   3115.0  \n",
      "2  12030.0  10850.0  \n",
      "3  19110.0  19110.0  \n",
      "4   6010.0   4640.0   \n",
      "\n"
     ]
    },
    {
     "name": "stderr",
     "output_type": "stream",
     "text": [
      "C:\\Users\\Public\\Documents\\ESTsoft\\CreatorTemp\\ipykernel_6764\\1553738642.py:8: FutureWarning: Passing literal html to 'read_html' is deprecated and will be removed in a future version. To read from a literal string, wrap it in a 'StringIO' object.\n",
      "  tables = pd.read_html(response.text)\n"
     ]
    }
   ],
   "source": [
    "import pandas as pd\n",
    "import requests\n",
    "\n",
    "url = 'https://finance.naver.com/sise/'\n",
    "response = requests.get(url)\n",
    "response.encoding = response.apparent_encoding  # 자동 인코딩 감지\n",
    "\n",
    "tables = pd.read_html(response.text)\n",
    "\n",
    "for i, table in enumerate(tables):\n",
    "    print(f\"테이블 {i}:\\n\", table.head(), \"\\n\")\n"
   ]
  }
 ],
 "metadata": {
  "kernelspec": {
   "display_name": "base",
   "language": "python",
   "name": "python3"
  },
  "language_info": {
   "codemirror_mode": {
    "name": "ipython",
    "version": 3
   },
   "file_extension": ".py",
   "mimetype": "text/x-python",
   "name": "python",
   "nbconvert_exporter": "python",
   "pygments_lexer": "ipython3",
   "version": "3.12.7"
  }
 },
 "nbformat": 4,
 "nbformat_minor": 5
}
