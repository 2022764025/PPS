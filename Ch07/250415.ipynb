{
 "cells": [
  {
   "cell_type": "code",
   "execution_count": 7,
   "id": "e9e4bcd6",
   "metadata": {},
   "outputs": [
    {
     "name": "stdout",
     "output_type": "stream",
     "text": [
      "1) 전공이 AI공학인 학생\n",
      "     학번   이름    전공  수학  영어  컴퓨터         평균\n",
      "0  S001  김민수  AI공학  80  75   90  81.666667\n",
      "2  S003  박지훈  AI공학  92  79   95  88.666667\n",
      "5  S006  김하늘  AI공학  88  90   92  90.000000\n",
      " \n",
      "2) 평균 점수가 85 이상인 학생\n",
      "     학번   이름    전공  수학  영어  컴퓨터         평균\n",
      "2  S003  박지훈  AI공학  92  79   95  88.666667\n",
      "5  S006  김하늘  AI공학  88  90   92  90.000000\n"
     ]
    }
   ],
   "source": [
    "import pandas as pd\n",
    "\n",
    "col_names = ['학번', '이름', '전공', '수학', '영어', '컴퓨터']\n",
    "list1 = [\n",
    "    ['S001', '김민수', 'AI공학', 80, 75, 90],\n",
    "    ['S002', '이수정', '경영학', 85, 88, 75],\n",
    "    ['S003', '박지훈', 'AI공학', 92, 79, 95],\n",
    "    ['S004', '최영희', '디자인', 70, 85, 80],\n",
    "    ['S005', '홍길동', '경영학', 78, 82, 85],\n",
    "    ['S006', '김하늘', 'AI공학', 88, 90, 92]\n",
    "]\n",
    "\n",
    "df = pd.DataFrame(list1, columns=col_names)\n",
    "df['평균'] = df[['수학', '영어', '컴퓨터']].mean(axis=1)\n",
    "\n",
    "print(\"1) 전공이 AI공학인 학생\")\n",
    "print(df[df['전공'] == 'AI공학'])\n",
    "\n",
    "print(\" \")\n",
    "print(\"2) 평균 점수가 85 이상인 학생\")\n",
    "print(df[df['평균'] >= 85])\n"
   ]
  },
  {
   "cell_type": "code",
   "execution_count": 5,
   "id": "5500f40e",
   "metadata": {},
   "outputs": [
    {
     "name": "stdout",
     "output_type": "stream",
     "text": [
      "전체 메뉴의 평균 가격\n",
      "3760.0\n",
      "\n",
      "판매량이 80개 이상인 메뉴\n",
      "  메뉴 ID    메뉴명 카테고리    가격  판매량\n",
      "0    M1  아메리카노   커피  3000  120\n",
      "1    M2   카페라떼   커피  3500   90\n",
      "4    M5   초코라떼    차  3800   80\n",
      "\n",
      "가장 비싼 메뉴\n",
      "  메뉴 ID     메뉴명 카테고리    가격  판매량\n",
      "3    M4  딸기 스무디  스무디  4500   70\n",
      "\n",
      "가장 저렴한 메뉴\n",
      "  메뉴 ID    메뉴명 카테고리    가격  판매량\n",
      "0    M1  아메리카노   커피  3000  120\n",
      "\n",
      "'커피' 카테고리에 속하는 메뉴\n",
      "  메뉴 ID    메뉴명 카테고리    가격  판매량\n",
      "0    M1  아메리카노   커피  3000  120\n",
      "1    M2   카페라떼   커피  3500   90\n"
     ]
    }
   ],
   "source": [
    "import pandas as pd\n",
    "\n",
    "data = {\n",
    "    '메뉴 ID': ['M1', 'M2', 'M3', 'M4', 'M5'],\n",
    "    '메뉴명': ['아메리카노', '카페라떼', '녹차라떼', '딸기 스무디', '초코라떼'],\n",
    "    '카테고리': ['커피', '커피', '차', '스무디', '차'],\n",
    "    '가격': [3000, 3500, 4000, 4500, 3800],\n",
    "    '판매량': [120, 90, 50, 70, 80]\n",
    "}\n",
    "\n",
    "\n",
    "df = pd.DataFrame(data)\n",
    "\n",
    "print(\"전체 메뉴의 평균 가격\")\n",
    "print(df['가격'].mean())\n",
    "print()\n",
    "\n",
    "print(\"판매량이 80개 이상인 메뉴\")\n",
    "print(df[df['판매량'] >= 80])\n",
    "print()\n",
    "\n",
    "print(\"가장 비싼 메뉴\")\n",
    "print(df[df['가격'] == df['가격'].max()])\n",
    "print()\n",
    "\n",
    "print(\"가장 저렴한 메뉴\")\n",
    "print(df[df['가격'] == df['가격'].min()])\n",
    "print()\n",
    "\n",
    "print(\"'커피' 카테고리에 속하는 메뉴\")\n",
    "print(df[df['카테고리'] == '커피'])\n"
   ]
  }
 ],
 "metadata": {
  "kernelspec": {
   "display_name": "Python 3",
   "language": "python",
   "name": "python3"
  },
  "language_info": {
   "codemirror_mode": {
    "name": "ipython",
    "version": 3
   },
   "file_extension": ".py",
   "mimetype": "text/x-python",
   "name": "python",
   "nbconvert_exporter": "python",
   "pygments_lexer": "ipython3",
   "version": "3.12.7"
  }
 },
 "nbformat": 4,
 "nbformat_minor": 5
}
